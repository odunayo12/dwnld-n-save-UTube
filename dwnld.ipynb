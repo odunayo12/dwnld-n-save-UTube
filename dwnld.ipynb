{
 "metadata": {
  "language_info": {
   "codemirror_mode": {
    "name": "ipython",
    "version": 3
   },
   "file_extension": ".py",
   "mimetype": "text/x-python",
   "name": "python",
   "nbconvert_exporter": "python",
   "pygments_lexer": "ipython3",
   "version": "3.7.8-final"
  },
  "orig_nbformat": 2,
  "kernelspec": {
   "name": "python3",
   "display_name": "Python 3",
   "language": "python"
  }
 },
 "nbformat": 4,
 "nbformat_minor": 2,
 "cells": [
  {
   "cell_type": "code",
   "execution_count": 1,
   "metadata": {},
   "outputs": [],
   "source": [
    "import youtube_dl as yd\n",
    "import re\n",
    "import subprocess"
   ]
  },
  {
   "cell_type": "code",
   "execution_count": 2,
   "metadata": {},
   "outputs": [],
   "source": [
    "playlist_no = range(1, 3)\n",
    "#[play for play in playlist_no] "
   ]
  },
  {
   "cell_type": "code",
   "execution_count": 9,
   "metadata": {
    "tags": []
   },
   "outputs": [
    {
     "output_type": "stream",
     "name": "stdout",
     "text": [
      "[youtube:tab] Downloading just video ynuXrqNkypU because of --no-playlist\n",
      "[youtube] ynuXrqNkypU: Downloading webpage\n",
      "[youtube] Downloading just video ynuXrqNkypU because of --no-playlist\n"
     ]
    }
   ],
   "source": [
    "download_info = []\n",
    "for i in playlist_no:\n",
    "    download_url = f\"https://www.youtube.com/watch?v=mVnJqhqKE5I&list=PLOL0oJJMcbY47TcVxmTs_jUSQRtWOY3fX&index={i}&ab_channel=DanielBaptist\"\n",
    "    download_ = yd.YoutubeDL().extract_info(url=download_url, download=False)\n",
    "    download_info.append(download_)\n"
   ]
  },
  {
   "cell_type": "code",
   "execution_count": 10,
   "metadata": {},
   "outputs": [],
   "source": []
  },
  {
   "cell_type": "code",
   "execution_count": 11,
   "metadata": {},
   "outputs": [
    {
     "output_type": "execute_result",
     "data": {
      "text/plain": [
       "'Medleys'"
      ]
     },
     "metadata": {},
     "execution_count": 11
    }
   ],
   "source": [
    "save_path = r\"C:\\Users\\rotim\\Music\\baptist-hymn\""
   ]
  },
  {
   "cell_type": "code",
   "execution_count": 12,
   "metadata": {},
   "outputs": [],
   "source": [
    "download_info = yd.YoutubeDL().extract_info(url=download_url, download=False)\n",
    "#vedio_title = f\"{download_info[\"title\"]}.mp3\"\n",
    "# # re.sub(\"[| ]\", \"_\", vedio_title)\n",
    "#download_info\n",
    "#vedio_title = f\"{download_info[\"title\"]}.mp3\"\n",
    "# re.sub(\"[| ]\", \"_\", vedio_title)\n",
    "vedio_title = download_info[\"title\"]"
   ]
  },
  {
   "cell_type": "code",
   "execution_count": 13,
   "metadata": {},
   "outputs": [],
   "source": [
    "vedio_title"
   ]
  },
  {
   "cell_type": "code",
   "execution_count": 14,
   "metadata": {
    "tags": []
   },
   "outputs": [
    {
     "output_type": "stream",
     "name": "stdout",
     "text": [
      "[youtube:tab] PLA75QZVS1VQI6n4zEAwCfwB1E4pYsi8TY: Downloading webpage\n",
      "[download] Downloading playlist: Medleys\n",
      "[youtube:tab] playlist Medleys: Downloading 22 videos\n",
      "[download] Downloading video 1 of 22\n",
      "[youtube] ynuXrqNkypU: Downloading webpage\n",
      "[download] Destination: C:\\Users\\rotim\\Music\\baptist-hymn\\Medleys.mp3\n",
      "[download] 100% of 6.29MiB in 00:09                  \n",
      "[ffmpeg] Post-process file C:\\Users\\rotim\\Music\\baptist-hymn\\Medleys.mp3 exists, skipping\n",
      "[download] Downloading video 2 of 22\n",
      "[youtube] nytRTdLxpuU: Downloading webpage\n",
      "[download] C:\\Users\\rotim\\Music\\baptist-hymn\\Medleys.mp3 has already been downloaded\n",
      "[download] 100% of 6.29MiB\n",
      "[ffmpeg] Post-process file C:\\Users\\rotim\\Music\\baptist-hymn\\Medleys.mp3 exists, skipping\n",
      "[download] Downloading video 3 of 22\n",
      "[youtube] OG24_d0LZPk: Downloading webpage\n",
      "[download] C:\\Users\\rotim\\Music\\baptist-hymn\\Medleys.mp3 has already been downloaded\n",
      "[download] 100% of 6.29MiB\n",
      "[ffmpeg] Post-process file C:\\Users\\rotim\\Music\\baptist-hymn\\Medleys.mp3 exists, skipping\n",
      "[download] Downloading video 4 of 22\n",
      "[youtube] S2TsP7FWLRs: Downloading webpage\n",
      "[download] C:\\Users\\rotim\\Music\\baptist-hymn\\Medleys.mp3 has already been downloaded\n",
      "[download] 100% of 6.29MiB\n",
      "[ffmpeg] Post-process file C:\\Users\\rotim\\Music\\baptist-hymn\\Medleys.mp3 exists, skipping\n",
      "[download] Downloading video 5 of 22\n",
      "[youtube] xWUdzPEejqY: Downloading webpage\n",
      "[download] C:\\Users\\rotim\\Music\\baptist-hymn\\Medleys.mp3 has already been downloaded\n",
      "[download] 100% of 6.29MiB\n",
      "[ffmpeg] Post-process file C:\\Users\\rotim\\Music\\baptist-hymn\\Medleys.mp3 exists, skipping\n",
      "[download] Downloading video 6 of 22\n",
      "[youtube] BHQJzIWNn6M: Downloading webpage\n",
      "[download] C:\\Users\\rotim\\Music\\baptist-hymn\\Medleys.mp3 has already been downloaded\n",
      "[download] 100% of 6.29MiB\n",
      "[ffmpeg] Post-process file C:\\Users\\rotim\\Music\\baptist-hymn\\Medleys.mp3 exists, skipping\n",
      "[download] Downloading video 7 of 22\n",
      "[youtube] exZT11piXiM: Downloading webpage\n",
      "[download] C:\\Users\\rotim\\Music\\baptist-hymn\\Medleys.mp3 has already been downloaded\n",
      "[download] 100% of 6.29MiB\n",
      "[ffmpeg] Post-process file C:\\Users\\rotim\\Music\\baptist-hymn\\Medleys.mp3 exists, skipping\n",
      "[download] Downloading video 8 of 22\n",
      "[youtube] WD89pq-Igcc: Downloading webpage\n",
      "[download] C:\\Users\\rotim\\Music\\baptist-hymn\\Medleys.mp3 has already been downloaded\n",
      "[download] 100% of 6.29MiB\n",
      "[ffmpeg] Post-process file C:\\Users\\rotim\\Music\\baptist-hymn\\Medleys.mp3 exists, skipping\n",
      "[download] Downloading video 9 of 22\n",
      "[youtube] tFEew1lk77o: Downloading webpage\n",
      "[download] C:\\Users\\rotim\\Music\\baptist-hymn\\Medleys.mp3 has already been downloaded\n",
      "[download] 100% of 6.29MiB\n",
      "[ffmpeg] Post-process file C:\\Users\\rotim\\Music\\baptist-hymn\\Medleys.mp3 exists, skipping\n",
      "[download] Downloading video 10 of 22\n",
      "[youtube] uhh1FAOm_uM: Downloading webpage\n",
      "[download] C:\\Users\\rotim\\Music\\baptist-hymn\\Medleys.mp3 has already been downloaded\n",
      "[download] 100% of 6.29MiB\n",
      "[ffmpeg] Post-process file C:\\Users\\rotim\\Music\\baptist-hymn\\Medleys.mp3 exists, skipping\n",
      "[download] Downloading video 11 of 22\n",
      "[youtube] VqJjury43Nw: Downloading webpage\n",
      "[download] C:\\Users\\rotim\\Music\\baptist-hymn\\Medleys.mp3 has already been downloaded\n",
      "[download] 100% of 6.29MiB\n",
      "[ffmpeg] Post-process file C:\\Users\\rotim\\Music\\baptist-hymn\\Medleys.mp3 exists, skipping\n",
      "[download] Downloading video 12 of 22\n",
      "[youtube] GVnXF8KUEII: Downloading webpage\n",
      "[download] C:\\Users\\rotim\\Music\\baptist-hymn\\Medleys.mp3 has already been downloaded\n",
      "[download] 100% of 6.29MiB\n",
      "[ffmpeg] Post-process file C:\\Users\\rotim\\Music\\baptist-hymn\\Medleys.mp3 exists, skipping\n",
      "[download] Downloading video 13 of 22\n",
      "[youtube] 5PxA8ZWYTCw: Downloading webpage\n",
      "[youtube] 5PxA8ZWYTCw: Downloading MPD manifest\n",
      "[download] C:\\Users\\rotim\\Music\\baptist-hymn\\Medleys.mp3 has already been downloaded\n",
      "[download] 100% of 6.29MiB\n",
      "[ffmpeg] Post-process file C:\\Users\\rotim\\Music\\baptist-hymn\\Medleys.mp3 exists, skipping\n",
      "[download] Downloading video 14 of 22\n",
      "[youtube] pBunKnlGqIk: Downloading webpage\n",
      "[download] C:\\Users\\rotim\\Music\\baptist-hymn\\Medleys.mp3 has already been downloaded\n",
      "[download] 100% of 6.29MiB\n",
      "[ffmpeg] Post-process file C:\\Users\\rotim\\Music\\baptist-hymn\\Medleys.mp3 exists, skipping\n",
      "[download] Downloading video 15 of 22\n",
      "[youtube] GDsvH60l86w: Downloading webpage\n",
      "[download] C:\\Users\\rotim\\Music\\baptist-hymn\\Medleys.mp3 has already been downloaded\n",
      "[download] 100% of 6.29MiB\n",
      "[ffmpeg] Post-process file C:\\Users\\rotim\\Music\\baptist-hymn\\Medleys.mp3 exists, skipping\n",
      "[download] Downloading video 16 of 22\n",
      "[youtube] GvRAn3VgCrk: Downloading webpage\n",
      "[download] C:\\Users\\rotim\\Music\\baptist-hymn\\Medleys.mp3 has already been downloaded\n",
      "[download] 100% of 6.29MiB\n",
      "[ffmpeg] Post-process file C:\\Users\\rotim\\Music\\baptist-hymn\\Medleys.mp3 exists, skipping\n",
      "[download] Downloading video 17 of 22\n",
      "[youtube] 4cI_epWZ5Z8: Downloading webpage\n",
      "[download] C:\\Users\\rotim\\Music\\baptist-hymn\\Medleys.mp3 has already been downloaded\n",
      "[download] 100% of 6.29MiB\n",
      "[ffmpeg] Post-process file C:\\Users\\rotim\\Music\\baptist-hymn\\Medleys.mp3 exists, skipping\n",
      "[download] Downloading video 18 of 22\n",
      "[youtube] d-l_X4tkXV8: Downloading webpage\n",
      "[download] C:\\Users\\rotim\\Music\\baptist-hymn\\Medleys.mp3 has already been downloaded\n",
      "[download] 100% of 6.29MiB\n",
      "[ffmpeg] Post-process file C:\\Users\\rotim\\Music\\baptist-hymn\\Medleys.mp3 exists, skipping\n",
      "[download] Downloading video 19 of 22\n",
      "[youtube] Bvm1XWgy-mc: Downloading webpage\n",
      "[download] C:\\Users\\rotim\\Music\\baptist-hymn\\Medleys.mp3 has already been downloaded\n",
      "[download] 100% of 6.29MiB\n",
      "[ffmpeg] Post-process file C:\\Users\\rotim\\Music\\baptist-hymn\\Medleys.mp3 exists, skipping\n",
      "[download] Downloading video 20 of 22\n",
      "[youtube] Lk97sNrtM1g: Downloading webpage\n",
      "[download] C:\\Users\\rotim\\Music\\baptist-hymn\\Medleys.mp3 has already been downloaded\n",
      "[download] 100% of 6.29MiB\n",
      "[ffmpeg] Post-process file C:\\Users\\rotim\\Music\\baptist-hymn\\Medleys.mp3 exists, skipping\n",
      "[download] Downloading video 21 of 22\n",
      "[youtube] kZGyHSqSMNk: Downloading webpage\n",
      "[download] C:\\Users\\rotim\\Music\\baptist-hymn\\Medleys.mp3 has already been downloaded\n",
      "[download] 100% of 6.29MiB\n",
      "[ffmpeg] Post-process file C:\\Users\\rotim\\Music\\baptist-hymn\\Medleys.mp3 exists, skipping\n",
      "[download] Downloading video 22 of 22\n",
      "[youtube] sB8wX_dQVS8: Downloading webpage\n",
      "[download] C:\\Users\\rotim\\Music\\baptist-hymn\\Medleys.mp3 has already been downloaded\n",
      "[download] 100% of 6.29MiB\n",
      "[ffmpeg] Post-process file C:\\Users\\rotim\\Music\\baptist-hymn\\Medleys.mp3 exists, skipping\n",
      "[download] Finished downloading playlist: Medleys\n"
     ]
    }
   ],
   "source": [
    "audio_title = f\"{vedio_title}.mp3\""
   ]
  },
  {
   "cell_type": "code",
   "execution_count": 23,
   "metadata": {},
   "outputs": [
    {
     "output_type": "execute_result",
     "data": {
      "text/plain": [
       "'C:\\\\Users\\\\rotim\\\\Music\\\\baptist-hymn\\\\Milan 3-2 Lazio | Hernandez Seals Win in Epic 5-Goal Thriller! | Serie A TIM.mp3.mp3'"
      ]
     },
     "metadata": {},
     "execution_count": 23
    }
   ],
   "source": [
    "options = {\n",
    "        'format': 'bestaudio/best',\n",
    "        'keepvideo': False,\n",
    "        'outtmpl': f\"{save_path}\\\\{audio_title}\",\n",
    "        'postprocessors': [{\n",
    "            'key': 'FFmpegExtractAudio',\n",
    "            'preferredcodec': 'mp3',\n",
    "            'preferredquality': '192',\n",
    "        }]\n",
    "    }"
   ]
  }
 ]
}